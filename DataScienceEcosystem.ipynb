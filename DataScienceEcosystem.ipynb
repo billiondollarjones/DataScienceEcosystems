{
 "cells": [
  {
   "cell_type": "markdown",
   "metadata": {},
   "source": [
    "<center>\n",
    "    <img src=\"https://cf-courses-data.s3.us.cloud-object-storage.appdomain.cloud/IBMDeveloperSkillsNetwork-DS0105EN-SkillsNetwork/labs/Module2/images/SN_web_lightmode.png\" width=\"300\" alt=\"cognitiveclass.ai logo\">\n",
    "</center>\n"
   ]
  },
  {
   "cell_type": "markdown",
   "metadata": {},
   "source": [
    "#### Add your code below following the instructions given in the course\n"
   ]
  },
  {
   "cell_type": "markdown",
   "metadata": {},
   "source": [
    "# H1: Data Science Tools and Ecosystem"
   ]
  },
  {
   "cell_type": "markdown",
   "metadata": {
    "tags": []
   },
   "source": [
    "In this notebook, I will be summarizing different data science tools, languages, and libraries that are available."
   ]
  },
  {
   "cell_type": "markdown",
   "metadata": {},
   "source": [
    "**Objectives:**\n",
    "* The task categories of Data Science include: data management, data integration and transformation, data visualization, & modeling. \n",
    "* Some popular languages are Python, R, SQL, Scala, Java, C++, and Java.\n",
    "* You can use data visualization methods to communicate with others and display meaningful results of an analysis.\n",
    "* Machine Learning (ML) uses algorithms, also known as \"models\", to identify patterns in data. \n",
    "* Deep learning refers to a general set of models and techniques that loosely emulate the way the human brain solves a wide range of problems. \n"
   ]
  },
  {
   "cell_type": "markdown",
   "metadata": {},
   "source": [
    "Here are some of the most popular data science languages:\n",
    "1. ***Python*** - an open source language that has scientific computing libraries such as Pandas, NumPy, SciPy, & matplotlib.\n",
    "2. ***R*** - unlike Python which is open source, R is a free language. It's array-oriented syntax makes it easier to translate from math to code for learners who have little to no programming background.\n",
    "3. ***SQL*** - SQL is different from other software languages because it's a non-procedural language. It was designed for managing data in relational databases. \n",
    "\n",
    "A few others languages are:\n",
    "1. ***Java***\n",
    "2. ***Scala***\n",
    "3. ***Javascript***\n",
    "4. ***Julia***"
   ]
  },
  {
   "cell_type": "markdown",
   "metadata": {},
   "source": [
    "Here are some of the most popular libraries used by Data Scientist:\n",
    "1. ***Scikit-Learn*** - used for machine learning, Scikit-Learn contains tolls for statistical modeling, including regression, classification, & clustering.\n",
    "2. ***TensorFlow*** - a low-level framework used for large-scale production of deep-learning models. \n",
    "3. ***Apache Spark*** - a general-purpose cluster-computing framework that allows you to process data using computer clusters.\n"
   ]
  },
  {
   "cell_type": "markdown",
   "metadata": {
    "tags": []
   },
   "source": [
    "| Data Science Tools |\n",
    "| ------------------ |\n",
    "| JuypterNotebooks |\n",
    "| RStudio |\n",
    "| VS Code |"
   ]
  },
  {
   "cell_type": "markdown",
   "metadata": {},
   "source": [
    "### H3: Below are some examples of evaluating arithmetic expressions in Python"
   ]
  },
  {
   "cell_type": "code",
   "execution_count": 11,
   "metadata": {
    "tags": []
   },
   "outputs": [
    {
     "data": {
      "text/plain": [
       "17"
      ]
     },
     "execution_count": 11,
     "metadata": {},
     "output_type": "execute_result"
    }
   ],
   "source": [
    "# A Simple Arithmatic Expression To Multiply Then Add Integers\n",
    "(3*4)+5"
   ]
  },
  {
   "cell_type": "code",
   "execution_count": 15,
   "metadata": {
    "tags": []
   },
   "outputs": [
    {
     "data": {
      "text/plain": [
       "3.3333333333333335"
      ]
     },
     "execution_count": 15,
     "metadata": {},
     "output_type": "execute_result"
    }
   ],
   "source": [
    "# This Expression Will Convert 200 Minutes in Hours by dividing by 60\n",
    "200 / 60"
   ]
  },
  {
   "cell_type": "markdown",
   "metadata": {},
   "source": [
    "## H2: Author\n",
    "     Aaron Jones"
   ]
  },
  {
   "cell_type": "code",
   "execution_count": null,
   "metadata": {},
   "outputs": [],
   "source": []
  }
 ],
 "metadata": {
  "kernelspec": {
   "display_name": "Python",
   "language": "python",
   "name": "conda-env-python-py"
  },
  "language_info": {
   "codemirror_mode": {
    "name": "ipython",
    "version": 3
   },
   "file_extension": ".py",
   "mimetype": "text/x-python",
   "name": "python",
   "nbconvert_exporter": "python",
   "pygments_lexer": "ipython3",
   "version": "3.7.12"
  }
 },
 "nbformat": 4,
 "nbformat_minor": 4
}
